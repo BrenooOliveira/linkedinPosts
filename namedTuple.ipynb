{
  "nbformat": 4,
  "nbformat_minor": 0,
  "metadata": {
    "colab": {
      "provenance": [],
      "authorship_tag": "ABX9TyNrmU8HiacPHlfiLbifs4kC",
      "include_colab_link": true
    },
    "kernelspec": {
      "name": "python3",
      "display_name": "Python 3"
    },
    "language_info": {
      "name": "python"
    }
  },
  "cells": [
    {
      "cell_type": "markdown",
      "metadata": {
        "id": "view-in-github",
        "colab_type": "text"
      },
      "source": [
        "<a href=\"https://colab.research.google.com/github/BrenooOliveira/linkedinPosts/blob/main/namedTuple.ipynb\" target=\"_parent\"><img src=\"https://colab.research.google.com/assets/colab-badge.svg\" alt=\"Open In Colab\"/></a>"
      ]
    },
    {
      "cell_type": "markdown",
      "source": [
        "# NamedTuple\n",
        "- Boas práticas de código\n",
        "- Erros fáceis de identificar\n",
        "- Orientação a objetos sem a estrutura completa"
      ],
      "metadata": {
        "id": "O-Mp0IdzkPeZ"
      }
    },
    {
      "cell_type": "markdown",
      "source": [
        "# Aplicação - Exemplo namedTuple\n",
        "- suponha que você tenha que **estruturar** os dados de um banco não-estruturado/semi-estruturado.\n",
        "- O banco de origem, possue diversas colunas com diversas categorias de dados diferentes\n",
        "- Precisamos identificar e separar os dados em tabelas relacionais"
      ],
      "metadata": {
        "id": "0885kV_rlr7Y"
      }
    },
    {
      "cell_type": "code",
      "source": [
        "from collections import namedtuple\n",
        "def extracao_dados(*args):\n",
        "    #::description:: recebe os dados e armazenam numa tupla tendo como objeto a classe 'dados'\n",
        "\n",
        "  # my_namedTuple recebe todos os 'args' (que são tuplas dinânimcas)\n",
        "  my_namedTuple = namedtuple('dados',args)\n",
        "  return my_namedTuple"
      ],
      "metadata": {
        "id": "osIfe7YHlrhR"
      },
      "execution_count": null,
      "outputs": []
    },
    {
      "cell_type": "markdown",
      "source": [
        "sabendo que você receberá diversos dados de uma fonte e deseja estruturá-los de maneira concisa"
      ],
      "metadata": {
        "id": "0-Ty89qqoR6u"
      }
    },
    {
      "cell_type": "code",
      "source": [
        "# classe para inserir os dados numa tabela de dados GERAIS dos funcionarios\n",
        "func_geral = extracao_dados('registro_func','nome','idade','email','cpf')\n",
        "\n",
        "# classe para inserir os dados numa tabela de dados PROFISSIONAIS dos funcionarios\n",
        "func_profissionais = extracao_dados('registro_func', 'cargo','salario','ano_inicio','ano_ultima_promocao')"
      ],
      "metadata": {
        "id": "IW27w3bAocTX"
      },
      "execution_count": null,
      "outputs": []
    },
    {
      "cell_type": "markdown",
      "source": [
        "### agora temos 2 objetos totalmente bem estruturadas!"
      ],
      "metadata": {
        "id": "Z_9-yo-eqAMI"
      }
    },
    {
      "cell_type": "code",
      "source": [
        "print('Dados gerais do Funcionário >>', func_geral('01','Breno Alves',20,'breno@exemplo.com','111.111.111-11'))"
      ],
      "metadata": {
        "colab": {
          "base_uri": "https://localhost:8080/"
        },
        "id": "nKLf6flyp--K",
        "outputId": "5ad63656-3133-4c67-f254-77e7660bfda0"
      },
      "execution_count": null,
      "outputs": [
        {
          "output_type": "stream",
          "name": "stdout",
          "text": [
            "Dados gerais do Funcionário >> dados(registro_func='01', nome='Breno Alves', idade=20, email='breno@exemplo.com', cpf='111.111.111-11')\n"
          ]
        }
      ]
    },
    {
      "cell_type": "code",
      "source": [
        "print('Dados profissionais do funcionário >>',func_profissionais('01','Eng Dados',1000,2020,2024))"
      ],
      "metadata": {
        "colab": {
          "base_uri": "https://localhost:8080/"
        },
        "id": "BOnSe76AqIE6",
        "outputId": "3366be64-9e6e-4fc3-afb6-f45c637e38f5"
      },
      "execution_count": null,
      "outputs": [
        {
          "output_type": "stream",
          "name": "stdout",
          "text": [
            "Dados profissionais do funcionário >> dados(registro_func='01', cargo='Eng Dados', salario=1000, ano_inicio=2020, ano_ultima_promocao=2024)\n"
          ]
        }
      ]
    },
    {
      "cell_type": "code",
      "source": [
        "# Além disso, podemos acessar cada elemento de maneira indívidual (POIS É UM OBJETO!)\n",
        "var_func_geral = func_geral('01','Breno Alves',20,'breno@exemplo.com','111.111.111-11')\n",
        "var_func_profissional = func_profissionais('01','Eng Dados',1000,2020,2024)\n",
        "\n",
        "print(f'nome do funcionario: {var_func_geral.nome} || salario do funcionario: {var_func_profissional.salario}' )"
      ],
      "metadata": {
        "colab": {
          "base_uri": "https://localhost:8080/"
        },
        "id": "fEQQsy7NrIdM",
        "outputId": "7784aa61-3c25-4406-aa1a-72bc44273daa"
      },
      "execution_count": null,
      "outputs": [
        {
          "output_type": "stream",
          "name": "stdout",
          "text": [
            "nome do funcionario: Breno Alves || salario do funcionario: 1000\n"
          ]
        }
      ]
    }
  ]
}