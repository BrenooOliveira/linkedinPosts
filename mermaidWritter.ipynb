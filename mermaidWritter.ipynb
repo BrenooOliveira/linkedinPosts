{
  "nbformat": 4,
  "nbformat_minor": 0,
  "metadata": {
    "colab": {
      "provenance": [],
      "authorship_tag": "ABX9TyOgKFtanbwro4wZfOzPstaS",
      "include_colab_link": true
    },
    "kernelspec": {
      "name": "python3",
      "display_name": "Python 3"
    },
    "language_info": {
      "name": "python"
    }
  },
  "cells": [
    {
      "cell_type": "markdown",
      "metadata": {
        "id": "view-in-github",
        "colab_type": "text"
      },
      "source": [
        "<a href=\"https://colab.research.google.com/github/BrenooOliveira/linkedinPosts/blob/main/mermaidWritter.ipynb\" target=\"_parent\"><img src=\"https://colab.research.google.com/assets/colab-badge.svg\" alt=\"Open In Colab\"/></a>"
      ]
    },
    {
      "cell_type": "markdown",
      "source": [
        "[![](https://mermaid.ink/img/pako:eNptkEEKwjAQRa8SZm0vUMGVuBEVVNw0LoZmtEHb6CQRtHgaFx7EizmtFlHMIhl-3vyfTA25MwQpbBkPhVoO-7pSspiOkXzI5oR7e0FWcxGst4_74-bWb-hEbDc2R85WXaU8qdm4A3zMyXuXLV5nJ29wX2A2avZG-kpUSTL4GP8Gya3Yt8zb-x8xlTd2WJulK-hBSVyiNfLXuunREAoqSUMqpUHeadDVVTiMwS3OVQ5p4Eg9iAeDgYYWZUQlpGLoRSVjg-PJa3jtDK9Ppbhv1Q?type=png)](https://mermaid.live/edit#pako:eNptkEEKwjAQRa8SZm0vUMGVuBEVVNw0LoZmtEHb6CQRtHgaFx7EizmtFlHMIhl-3vyfTA25MwQpbBkPhVoO-7pSspiOkXzI5oR7e0FWcxGst4_74-bWb-hEbDc2R85WXaU8qdm4A3zMyXuXLV5nJ29wX2A2avZG-kpUSTL4GP8Gya3Yt8zb-x8xlTd2WJulK-hBSVyiNfLXuunREAoqSUMqpUHeadDVVTiMwS3OVQ5p4Eg9iAeDgYYWZUQlpGLoRSVjg-PJa3jtDK9Ppbhv1Q)"
      ],
      "metadata": {
        "id": "HcMIw0PqDsJA"
      }
    },
    {
      "cell_type": "code",
      "execution_count": 1,
      "metadata": {
        "id": "e3uZ1YyR_p7N"
      },
      "outputs": [],
      "source": [
        "import requests"
      ]
    },
    {
      "cell_type": "code",
      "source": [
        "r = requests.get('https://www.linkedin.com/')"
      ],
      "metadata": {
        "id": "ljsPIkjE_wI2"
      },
      "execution_count": 24,
      "outputs": []
    },
    {
      "cell_type": "code",
      "source": [
        "if r.ok:\n",
        "  print(f'Acesso bem-sucedido! StatusCode: {r.status_code}')\n",
        "else:\n",
        "  print(f'Acesso mal sucedido. StatusCode: {r.status_code}')\n",
        "  r.raise_for_status()"
      ],
      "metadata": {
        "colab": {
          "base_uri": "https://localhost:8080/"
        },
        "id": "zPnvAeFPAVfu",
        "outputId": "b7ffe80d-f84c-46c0-de09-63aaeb264ce9"
      },
      "execution_count": 25,
      "outputs": [
        {
          "output_type": "stream",
          "name": "stdout",
          "text": [
            "Acesso bem-sucedido! StatusCode: 200\n"
          ]
        }
      ]
    }
  ]
}